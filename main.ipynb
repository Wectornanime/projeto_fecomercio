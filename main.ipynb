{
 "cells": [
  {
   "cell_type": "code",
   "execution_count": 10,
   "metadata": {},
   "outputs": [],
   "source": [
    "import requests, json\n",
    "import pandas as pd"
   ]
  },
  {
   "cell_type": "code",
   "execution_count": 18,
   "metadata": {},
   "outputs": [],
   "source": [
    "colecao_ano_mes = [\n",
    "    '202301', '202302', '202303', '202304', '202305', '202306', '202307', '202308', '202309', '202310', '202311', '202312',\n",
    "    '202401', '202402', '202403', '202404', '202405', '202406', '202407', '202408', '202409', '202410'\n",
    "]\n",
    "\n",
    "anomes = '202301'\n",
    "url_chaves = \"https://olinda.bcb.gov.br/olinda/servico/Pix_DadosAbertos/versao/v1/odata/ChavesPix(Data=@Data)?@Data='2024-01-01'\"\n",
    "url_municipio = f\"https://olinda.bcb.gov.br/olinda/servico/Pix_DadosAbertos/versao/v1/odata/TransacoesPixPorMunicipio(DataBase=@DataBase)?@DataBase='{anomes}'\"\n",
    "url_estatisticas = f\"https://olinda.bcb.gov.br/olinda/servico/Pix_DadosAbertos/versao/v1/odata/EstatisticasTransacoesPix(Database=@Database)?@Database='{anomes}'\""
   ]
  },
  {
   "cell_type": "code",
   "execution_count": 12,
   "metadata": {},
   "outputs": [],
   "source": [
    "def requisicao_api(link, nome):\n",
    "    resposta = requests.get(link)\n",
    "\n",
    "    if resposta.status_code == 200:      #sucesso na requisição\n",
    "        dados = resposta.json()\n",
    "        print('Status Code:', resposta.status_code)\n",
    "        with open(f'{nome}.json', 'w', encoding='utf-8') as arquivo:   #salvar arquivo json\n",
    "            json.dump(dados, arquivo, ensure_ascii=False, indent=4)\n",
    "\n",
    "    else:\n",
    "        print('Status Code:', resposta.status_code)"
   ]
  },
  {
   "cell_type": "code",
   "execution_count": 21,
   "metadata": {},
   "outputs": [
    {
     "name": "stdout",
     "output_type": "stream",
     "text": [
      "Status Code: 200\n",
      "Status Code: 200\n",
      "Status Code: 200\n",
      "Status Code: 200\n",
      "Status Code: 200\n",
      "Status Code: 200\n",
      "Status Code: 200\n",
      "Status Code: 200\n",
      "Status Code: 200\n",
      "Status Code: 200\n",
      "Status Code: 200\n",
      "Status Code: 200\n",
      "Status Code: 200\n",
      "Status Code: 200\n",
      "Status Code: 200\n",
      "Status Code: 200\n",
      "Status Code: 200\n",
      "Status Code: 200\n",
      "Status Code: 200\n",
      "Status Code: 200\n",
      "Status Code: 200\n",
      "Status Code: 200\n",
      "Status Code: 200\n",
      "Status Code: 200\n",
      "Status Code: 200\n",
      "Status Code: 200\n",
      "Status Code: 200\n",
      "Status Code: 200\n",
      "Status Code: 200\n",
      "Status Code: 200\n",
      "Status Code: 200\n",
      "Status Code: 200\n",
      "Status Code: 200\n",
      "Status Code: 200\n",
      "Status Code: 200\n",
      "Status Code: 200\n",
      "Status Code: 200\n",
      "Status Code: 200\n",
      "Status Code: 200\n",
      "Status Code: 200\n",
      "Status Code: 200\n",
      "Status Code: 200\n",
      "Status Code: 200\n",
      "Status Code: 200\n",
      "Status Code: 200\n"
     ]
    }
   ],
   "source": [
    "# faz as requisicoes das apis\n",
    "# converte para json\n",
    "# converte para csv\n",
    "\n",
    "requisicao_api(url_chaves, 'chaves')\n",
    "\n",
    "for anomes in colecao_ano_mes:\n",
    "    requisicao_api(url_municipio, f'pix_municipio_{anomes}')\n",
    "    requisicao_api(url_estatisticas, f'pix_estatisticas_transicoes_{anomes}')\n",
    "\n",
    "    pd.json_normalize(pd.read_json(f'pix_municipio_{anomes}.json')['value']).to_csv(f'pix_municipio_{anomes}.csv', index=False)\n",
    "    pd.json_normalize(pd.read_json(f'pix_estatisticas_transicoes_{anomes}.json')['value']).to_csv(f'pix_estatisticas_transicoes_{anomes}.csv', index=False)"
   ]
  },
  {
   "cell_type": "code",
   "execution_count": 14,
   "metadata": {},
   "outputs": [],
   "source": [
    "# faz a leitura dos dados das chaves\n",
    "chaves_json = pd.read_json('chaves.json')\n",
    "dfChaves = pd.json_normalize(chaves_json['value'])"
   ]
  },
  {
   "cell_type": "code",
   "execution_count": 15,
   "metadata": {},
   "outputs": [
    {
     "data": {
      "text/html": [
       "<div>\n",
       "<style scoped>\n",
       "    .dataframe tbody tr th:only-of-type {\n",
       "        vertical-align: middle;\n",
       "    }\n",
       "\n",
       "    .dataframe tbody tr th {\n",
       "        vertical-align: top;\n",
       "    }\n",
       "\n",
       "    .dataframe thead th {\n",
       "        text-align: right;\n",
       "    }\n",
       "</style>\n",
       "<table border=\"1\" class=\"dataframe\">\n",
       "  <thead>\n",
       "    <tr style=\"text-align: right;\">\n",
       "      <th></th>\n",
       "      <th>Data</th>\n",
       "      <th>ISPB</th>\n",
       "      <th>Nome</th>\n",
       "      <th>NaturezaUsuario</th>\n",
       "      <th>TipoChave</th>\n",
       "      <th>qtdChaves</th>\n",
       "    </tr>\n",
       "  </thead>\n",
       "  <tbody>\n",
       "    <tr>\n",
       "      <th>0</th>\n",
       "      <td>2024-04-30</td>\n",
       "      <td>05442029</td>\n",
       "      <td>CASA CREDITO S.A. SCM</td>\n",
       "      <td>PF</td>\n",
       "      <td>Celular</td>\n",
       "      <td>46</td>\n",
       "    </tr>\n",
       "    <tr>\n",
       "      <th>1</th>\n",
       "      <td>2024-06-30</td>\n",
       "      <td>07564184</td>\n",
       "      <td>COOP ASCOOB SERTÕES</td>\n",
       "      <td>PF</td>\n",
       "      <td>Celular</td>\n",
       "      <td>6</td>\n",
       "    </tr>\n",
       "    <tr>\n",
       "      <th>2</th>\n",
       "      <td>2024-04-30</td>\n",
       "      <td>30723886</td>\n",
       "      <td>BCO MODAL S.A.</td>\n",
       "      <td>PF</td>\n",
       "      <td>Celular</td>\n",
       "      <td>381</td>\n",
       "    </tr>\n",
       "    <tr>\n",
       "      <th>3</th>\n",
       "      <td>2024-01-31</td>\n",
       "      <td>04146333</td>\n",
       "      <td>COOP SICREDI PERNAMBUCRED</td>\n",
       "      <td>PF</td>\n",
       "      <td>Celular</td>\n",
       "      <td>1</td>\n",
       "    </tr>\n",
       "    <tr>\n",
       "      <th>4</th>\n",
       "      <td>2024-07-31</td>\n",
       "      <td>01664968</td>\n",
       "      <td>CCLA DE ASSOCIADOS UNIRONDÔNIA LTDA</td>\n",
       "      <td>PJ</td>\n",
       "      <td>Celular</td>\n",
       "      <td>615</td>\n",
       "    </tr>\n",
       "  </tbody>\n",
       "</table>\n",
       "</div>"
      ],
      "text/plain": [
       "         Data      ISPB                                 Nome NaturezaUsuario  \\\n",
       "0  2024-04-30  05442029                CASA CREDITO S.A. SCM              PF   \n",
       "1  2024-06-30  07564184                  COOP ASCOOB SERTÕES              PF   \n",
       "2  2024-04-30  30723886                       BCO MODAL S.A.              PF   \n",
       "3  2024-01-31  04146333            COOP SICREDI PERNAMBUCRED              PF   \n",
       "4  2024-07-31  01664968  CCLA DE ASSOCIADOS UNIRONDÔNIA LTDA              PJ   \n",
       "\n",
       "  TipoChave  qtdChaves  \n",
       "0   Celular         46  \n",
       "1   Celular          6  \n",
       "2   Celular        381  \n",
       "3   Celular          1  \n",
       "4   Celular        615  "
      ]
     },
     "execution_count": 15,
     "metadata": {},
     "output_type": "execute_result"
    }
   ],
   "source": [
    "# exibe os dados das chaves\n",
    "dfChaves.head()"
   ]
  },
  {
   "cell_type": "code",
   "execution_count": 16,
   "metadata": {},
   "outputs": [],
   "source": [
    "# salva os dados em csv\n",
    "dfChaves.to_csv('chaves.csv', index=False)"
   ]
  }
 ],
 "metadata": {
  "kernelspec": {
   "display_name": "Python 3",
   "language": "python",
   "name": "python3"
  },
  "language_info": {
   "codemirror_mode": {
    "name": "ipython",
    "version": 3
   },
   "file_extension": ".py",
   "mimetype": "text/x-python",
   "name": "python",
   "nbconvert_exporter": "python",
   "pygments_lexer": "ipython3",
   "version": "3.12.3"
  }
 },
 "nbformat": 4,
 "nbformat_minor": 2
}
