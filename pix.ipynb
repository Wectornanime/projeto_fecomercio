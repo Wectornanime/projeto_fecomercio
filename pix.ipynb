{
 "cells": [
  {
   "cell_type": "code",
   "execution_count": null,
   "metadata": {},
   "outputs": [],
   "source": [
    "import os\n",
    "from dotenv import load_dotenv\n",
    "from pymongo import MongoClient\n",
    "\n",
    "import requests, json\n",
    "import pandas as pd"
   ]
  },
  {
   "cell_type": "code",
   "execution_count": null,
   "metadata": {},
   "outputs": [],
   "source": [
    "# Carrega as variáveis do arquivo .env\n",
    "load_dotenv()\n",
    "database_url = os.getenv('DATABASE_URL')\n",
    "\n",
    "# Faz conexão com Atlas\n",
    "cliente = MongoClient(database_url)\n",
    "db = cliente['projeto_fecomercio']"
   ]
  },
  {
   "cell_type": "code",
   "execution_count": null,
   "metadata": {},
   "outputs": [],
   "source": [
    "colecao_ano_mes = [\n",
    "    '202001', '202002', '202003', '202004', '202005', '202006', '202007', '202008', '202009', '202010', '202011', '202012',\n",
    "    '202101', '202102', '202103', '202104', '202105', '202106', '202107', '202108', '202109', '202110', '202111', '202112', \n",
    "    '202201', '202202', '202203', '202204', '202205', '202206', '202207', '202208', '202209', '202210', '202211', '202212', \n",
    "    '202301', '202302', '202303', '202304', '202305', '202306', '202307', '202308', '202309', '202310', '202311', '202312',\n",
    "    '202401', '202402', '202403', '202404', '202405', '202406', '202407', '202408', '202409', '202410'\n",
    "]\n",
    "\n",
    "anomes = colecao_ano_mes[0]\n",
    "\n",
    "# Endepoints\n",
    "\n",
    "url_pix_chaves = \"https://olinda.bcb.gov.br/olinda/servico/Pix_DadosAbertos/versao/v1/odata/ChavesPix(Data=@Data)?@Data='2020-01-01'\"\n",
    "url_pix_municipio = f\"https://olinda.bcb.gov.br/olinda/servico/Pix_DadosAbertos/versao/v1/odata/TransacoesPixPorMunicipio(DataBase=@DataBase)?@DataBase='{anomes}'\"\n",
    "url_pix_estatisticas = f\"https://olinda.bcb.gov.br/olinda/servico/Pix_DadosAbertos/versao/v1/odata/EstatisticasTransacoesPix(Database=@Database)?@Database='{anomes}'\""
   ]
  },
  {
   "cell_type": "markdown",
   "metadata": {},
   "source": [
    "### pix - chave"
   ]
  },
  {
   "cell_type": "code",
   "execution_count": null,
   "metadata": {},
   "outputs": [],
   "source": [
    "response_pix_chaves = requests(url_pix_chaves)"
   ]
  },
  {
   "cell_type": "code",
   "execution_count": null,
   "metadata": {},
   "outputs": [],
   "source": [
    "if response_pix_chaves.status_code == 200:\n",
    "    pix_chaves_data = response_pix_chaves.json()['value']\n",
    "    print(pix_chaves_data)\n",
    "\n",
    "    # cria um dataframe\n",
    "    df_pix_chaves = pd.DataFrame(pix_chaves_data)\n",
    "else:\n",
    "    print(\"Erro:\", response_pix_chaves.status_code, response_pix_chaves.text)"
   ]
  },
  {
   "cell_type": "code",
   "execution_count": null,
   "metadata": {},
   "outputs": [],
   "source": [
    "collection_pix_chaves = db['pixChaves']\n",
    "collection_pix_chaves.insert_many(df_pix_chaves.to_dict('records'))"
   ]
  },
  {
   "cell_type": "markdown",
   "metadata": {},
   "source": [
    "### pix - municipios"
   ]
  },
  {
   "cell_type": "code",
   "execution_count": null,
   "metadata": {},
   "outputs": [],
   "source": [
    "erros_pix_municipio = []\n",
    "dados_pix_municipio = []\n",
    "anomes = colecao_ano_mes[0]\n",
    "\n",
    "for anomes in colecao_ano_mes:\n",
    "    resposta = requests.get(f\"https://olinda.bcb.gov.br/olinda/servico/Pix_DadosAbertos/versao/v1/odata/TransacoesPixPorMunicipio(DataBase=@DataBase)?@DataBase='{anomes}'\")\n",
    "    if resposta.status_code == 200:\n",
    "        dados = resposta.json()['value']\n",
    "        for valor in dados:\n",
    "            dados_pix_municipio.append({\n",
    "                'ANO': int(str(valor['AnoMes'])[:4]),\n",
    "                'MES': int(str(valor['AnoMes'])[4:]),\n",
    "                'Municipio_Ibge': valor['Municipio_Ibge'],\n",
    "                'Municipio': valor['Municipio'],\n",
    "                'Estado_Ibge': valor['Estado_Ibge'],\n",
    "                'Estado': valor['Estado'],\n",
    "                'Sigla_Regiao': valor['Sigla_Regiao'],\n",
    "                'Regiao': valor['Regiao'],\n",
    "                'VL_PagadorPF': valor['VL_PagadorPF'],\n",
    "                'QT_PagadorPF': valor['QT_PagadorPF'],\n",
    "                'VL_PagadorPJ': valor['VL_PagadorPJ'],\n",
    "                'QT_PagadorPJ': valor['QT_PagadorPJ'],\n",
    "                'VL_RecebedorPF': valor['VL_RecebedorPF'],\n",
    "                'QT_RecebedorPF': valor['QT_RecebedorPF'],\n",
    "                'VL_RecebedorPJ': valor['VL_RecebedorPJ'],\n",
    "                'QT_RecebedorPJ': valor['QT_RecebedorPJ'],\n",
    "                'QT_PES_PagadorPF': valor['QT_PES_PagadorPF'],\n",
    "                'QT_PES_PagadorPJ': valor['QT_PES_PagadorPJ'],\n",
    "                'QT_PES_RecebedorPF': valor['QT_PES_RecebedorPF'],\n",
    "                'QT_PES_RecebedorPJ': valor['QT_PES_RecebedorPJ']\n",
    "            })\n",
    "    else:\n",
    "        erros_pix_municipio.append(anomes)"
   ]
  },
  {
   "cell_type": "code",
   "execution_count": null,
   "metadata": {},
   "outputs": [],
   "source": [
    "erros_pix_municipio"
   ]
  },
  {
   "cell_type": "code",
   "execution_count": null,
   "metadata": {},
   "outputs": [],
   "source": [
    "df_pix_municipio = pd.DataFrame(dados_pix_municipio)\n",
    "collection_pix_municipio = db['pixMunicipio']\n",
    "collection_pix_municipio.insert_many(df_pix_municipio.to_dict('records'))"
   ]
  },
  {
   "cell_type": "markdown",
   "metadata": {},
   "source": [
    "### pix - estatisticas"
   ]
  },
  {
   "cell_type": "code",
   "execution_count": null,
   "metadata": {},
   "outputs": [],
   "source": [
    "erros_pix_estatisticas = []\n",
    "dados_pix_estatisticas = []\n",
    "anomes = colecao_ano_mes[0]\n",
    "\n",
    "for anomes in colecao_ano_mes:\n",
    "    resposta = requests.get(f\"https://olinda.bcb.gov.br/olinda/servico/Pix_DadosAbertos/versao/v1/odata/EstatisticasTransacoesPix(Database=@Database)?@Database='{anomes}'\")\n",
    "    if resposta.status_code == 200:\n",
    "        dados = resposta.json()['value']\n",
    "        for valor in dados:\n",
    "            dados_pix_estatisticas.append({\n",
    "                'ANO': int(str(valor['AnoMes'])[:4]),\n",
    "                'MES': int(str(valor['AnoMes'])[4:]),\n",
    "                'PAG_PFPJ': valor['PAG_PFPJ'],\n",
    "                'REC_PFPJ': valor['REC_PFPJ'],\n",
    "                'PAG_REGIAO': valor['PAG_REGIAO'],\n",
    "                'REC_REGIAO': valor['REC_REGIAO'],\n",
    "                'PAG_IDADE': valor['PAG_IDADE'],\n",
    "                'REC_IDADE': valor['REC_IDADE'],\n",
    "                'FORMAINICIACAO': valor['FORMAINICIACAO'],\n",
    "                'NATUREZA': valor['NATUREZA'],\n",
    "                'FINALIDADE': valor['FINALIDADE'],\n",
    "                'VALOR': valor['VALOR'],\n",
    "                'QUANTIDADE': valor['QUANTIDADE']\n",
    "            })\n",
    "    else:\n",
    "        erros_pix_estatisticas.append(anomes)"
   ]
  },
  {
   "cell_type": "code",
   "execution_count": null,
   "metadata": {},
   "outputs": [],
   "source": [
    "erros_pix_estatisticas"
   ]
  },
  {
   "cell_type": "code",
   "execution_count": null,
   "metadata": {},
   "outputs": [],
   "source": [
    "df_pix_estatisticas = pd.DataFrame(dados_pix_estatisticas)\n",
    "collection_pix_estatisticas = db['pixEstatisticas']\n",
    "collection_pix_estatisticas.insert_many(df_pix_estatisticas.to_dict('records'))"
   ]
  }
 ],
 "metadata": {
  "kernelspec": {
   "display_name": "Python 3",
   "language": "python",
   "name": "python3"
  },
  "language_info": {
   "codemirror_mode": {
    "name": "ipython",
    "version": 3
   },
   "file_extension": ".py",
   "mimetype": "text/x-python",
   "name": "python",
   "nbconvert_exporter": "python",
   "pygments_lexer": "ipython3",
   "version": "3.12.3"
  }
 },
 "nbformat": 4,
 "nbformat_minor": 2
}
