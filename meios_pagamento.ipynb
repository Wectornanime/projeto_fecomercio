{
 "cells": [
  {
   "cell_type": "code",
   "execution_count": null,
   "metadata": {},
   "outputs": [],
   "source": [
    "import os\n",
    "from dotenv import load_dotenv\n",
    "from pymongo import MongoClient\n",
    "\n",
    "import requests, json\n",
    "import pandas as pd"
   ]
  },
  {
   "cell_type": "code",
   "execution_count": null,
   "metadata": {},
   "outputs": [],
   "source": [
    "# Carrega as variáveis do arquivo .env\n",
    "load_dotenv()\n",
    "database_url = os.getenv('DATABASE_URL')\n",
    "\n",
    "# Faz conexão com Atlas\n",
    "cliente = MongoClient(database_url)\n",
    "db = cliente['projeto_fecomercio']"
   ]
  },
  {
   "cell_type": "code",
   "execution_count": null,
   "metadata": {},
   "outputs": [],
   "source": [
    "colecao_ano_mes = [\n",
    "    '202001', '202002', '202003', '202004', '202005', '202006', '202007', '202008', '202009', '202010', '202011', '202012',\n",
    "    '202101', '202102', '202103', '202104', '202105', '202106', '202107', '202108', '202109', '202110', '202111', '202112', \n",
    "    '202201', '202202', '202203', '202204', '202205', '202206', '202207', '202208', '202209', '202210', '202211', '202212', \n",
    "    '202301', '202302', '202303', '202304', '202305', '202306', '202307', '202308', '202309', '202310', '202311', '202312',\n",
    "    '202401', '202402', '202403', '202404', '202405', '202406', '202407', '202408', '202409', '202410'\n",
    "]\n",
    "\n",
    "anomes = colecao_ano_mes[0]\n",
    "\n",
    "# Endepoints\n",
    "\n",
    "url_meios_pagamento = \"https://olinda.bcb.gov.br/olinda/servico/MPV_DadosAbertos/versao/v1/odata/MeiosdePagamentosMensalDA(AnoMes=@AnoMes)?@AnoMes='202001'&$top=100&$format=json&$select=AnoMes,quantidadePix,valorPix,quantidadeTED,valorTED,quantidadeTEC,valorTEC,quantidadeCheque,valorCheque,quantidadeBoleto\""
   ]
  },
  {
   "cell_type": "code",
   "execution_count": null,
   "metadata": {},
   "outputs": [],
   "source": [
    "# Realizar a requisição\n",
    "\n",
    "response_meios_pagamento = requests.get(url_meios_pagamento)\n",
    "print(f'meios_pagamento: {response_meios_pagamento.status_code}')"
   ]
  },
  {
   "cell_type": "markdown",
   "metadata": {},
   "source": [
    "## Passar os dados para o mongo"
   ]
  },
  {
   "cell_type": "code",
   "execution_count": null,
   "metadata": {},
   "outputs": [],
   "source": [
    "if response_meios_pagamento.status_code == 200:\n",
    "    meios_pagamento_data = response_meios_pagamento.json()['value']\n",
    "    print(meios_pagamento_data)\n",
    "\n",
    "    # cria um dataframe\n",
    "    df_meios_pagamento = pd.DataFrame(meios_pagamento_data)\n",
    "else:\n",
    "    print(\"Erro:\", response_meios_pagamento.status_code, response_meios_pagamento.text)"
   ]
  },
  {
   "cell_type": "code",
   "execution_count": null,
   "metadata": {},
   "outputs": [],
   "source": [
    "collection_meios_pagamento = db['meiosPagamento']\n",
    "collection_meios_pagamento.insert_many(df_meios_pagamento.to_dict('records'))"
   ]
  }
 ],
 "metadata": {
  "kernelspec": {
   "display_name": "Python 3",
   "language": "python",
   "name": "python3"
  },
  "language_info": {
   "codemirror_mode": {
    "name": "ipython",
    "version": 3
   },
   "file_extension": ".py",
   "mimetype": "text/x-python",
   "name": "python",
   "nbconvert_exporter": "python",
   "pygments_lexer": "ipython3",
   "version": "3.12.3"
  }
 },
 "nbformat": 4,
 "nbformat_minor": 2
}
