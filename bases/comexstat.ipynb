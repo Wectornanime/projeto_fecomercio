{
 "cells": [
  {
   "cell_type": "code",
   "execution_count": null,
   "metadata": {},
   "outputs": [],
   "source": [
    "import os\n",
    "from dotenv import load_dotenv\n",
    "from pymongo import MongoClient\n",
    "\n",
    "import pandas as pd\n",
    "import requests\n",
    "import json\n",
    "import urllib3"
   ]
  },
  {
   "cell_type": "code",
   "execution_count": null,
   "metadata": {},
   "outputs": [],
   "source": [
    "# Carrega as variáveis do arquivo .env\n",
    "load_dotenv()\n",
    "database_url = os.getenv('DATABASE_URL')\n",
    "\n",
    "# Faz conexão com Atlas\n",
    "cliente = MongoClient(database_url)\n",
    "db = cliente['projeto_fecomercio']"
   ]
  },
  {
   "cell_type": "code",
   "execution_count": null,
   "metadata": {},
   "outputs": [],
   "source": [
    "# Desabilitar a verificação de certificado SSL\n",
    "urllib3.disable_warnings(urllib3.exceptions.InsecureRequestWarning)\n",
    "\n",
    "url = \"https://api-comexstat.mdic.gov.br/cities\"\n",
    "\n",
    "headers = {\n",
    "    \"Content-Type\": \"application/json\"\n",
    "}\n",
    "\n",
    "filtrosStateExport = { \"flow\": \"export\",\n",
    "            \"monthDetail\": True,\n",
    "            \"period\": { \"from\": \"2020-01\", \"to\": \"2024-12\" },\n",
    "            \"filters\": [ { \"filter\": \"country\", \"values\": [ 105] }],\n",
    "            \"details\": [ \"state\"],\n",
    "            \"metrics\": [ \"metricFOB\", \"metricKG\" ] }\n",
    "\n",
    "filtrosStateImport = { \"flow\": \"import\",\n",
    "            \"monthDetail\": True,\n",
    "            \"period\": { \"from\": \"2020-01\", \"to\": \"2024-12\" },\n",
    "            \"filters\": [ { \"filter\": \"country\", \"values\": [ 105] }],\n",
    "            \"details\": [ \"state\"],\n",
    "            \"metrics\": [ \"metricFOB\", \"metricKG\" ] }\n",
    "\n",
    "filtrosCityExport = { \"flow\": \"export\",\n",
    "            \"monthDetail\": True,\n",
    "            \"period\": { \"from\": \"2020-01\", \"to\": \"2024-12\" },\n",
    "            \"filters\": [ { \"filter\": \"country\", \"values\": [ 105] }],\n",
    "            \"details\": [ \"city\"],\n",
    "            \"metrics\": [ \"metricFOB\", \"metricKG\" ] }\n",
    "\n",
    "filtrosCityImport = { \"flow\": \"import\",\n",
    "            \"monthDetail\": True,\n",
    "            \"period\": { \"from\": \"2020-01\", \"to\": \"2024-12\" },\n",
    "            \"filters\": [ { \"filter\": \"country\", \"values\": [ 105] }],\n",
    "            \"details\": [ \"city\"],\n",
    "            \"metrics\": [ \"metricFOB\", \"metricKG\" ] }\n",
    "\n",
    "# Fazendo a requisição POST com verify=False\n",
    "responseStateExport = requests.post(url, json=filtrosStateExport, headers=headers, verify=False)\n",
    "responseStateImport = requests.post(url, json=filtrosStateImport, headers=headers, verify=False)\n",
    "responseCityExport = requests.post(url, json=filtrosCityExport, headers=headers, verify=False)\n",
    "responseCityImport = requests.post(url, json=filtrosCityImport, headers=headers, verify=False)"
   ]
  },
  {
   "cell_type": "code",
   "execution_count": null,
   "metadata": {},
   "outputs": [],
   "source": [
    "# Checando se a requisição da exportação de cidade foi bem-sucedida\n",
    "print('responseCityExport: ', end='')\n",
    "if responseCityExport.status_code == 200:\n",
    "    dadosCityExport = responseCityExport.json()  # Converte a resposta em JSON\n",
    "    print('ok')\n",
    "else:\n",
    "    print(\"Erro:\", responseCityExport.status_code, responseCityExport.text)\n",
    "\n",
    "# Checando se a requisição da importação de cidade foi bem-sucedida\n",
    "print('responseCityImport: ', end='')\n",
    "if responseCityImport.status_code == 200:\n",
    "    dadosCityImport = responseCityImport.json()  # Converte a resposta em JSON\n",
    "    print('ok')\n",
    "else:\n",
    "    print(\"Erro:\", responseCityImport.status_code, responseCityImport.text)\n",
    "\n",
    "# Checando se a requisição da exportação de estado foi bem-sucedida\n",
    "print('responseStateExport: ', end='')\n",
    "if responseStateExport.status_code == 200:\n",
    "    dadosStateExport = responseStateExport.json()  # Converte a resposta em JSON\n",
    "    print('ok')\n",
    "else:\n",
    "    print(\"Erro:\", responseStateExport.status_code, responseStateExport.text)\n",
    "\n",
    "# Checando se a requisição da importação de estado foi bem-sucedida\n",
    "print('responseStateImport: ', end='')\n",
    "if responseStateImport.status_code == 200:\n",
    "    dadosStateImport = responseStateImport.json()  # Converte a resposta em JSON\n",
    "    print('ok')\n",
    "else:\n",
    "    print(\"Erro:\", responseStateImport.status_code, responseStateImport.text)"
   ]
  },
  {
   "cell_type": "code",
   "execution_count": null,
   "metadata": {},
   "outputs": [],
   "source": [
    "# Extrair a lista de dados da importação de estado\n",
    "data_list = dadosStateImport['data']['list']\n",
    "\n",
    "# Transformar em DataFrame\n",
    "df_importState = pd.DataFrame(data_list)\n",
    "\n",
    "# Exibir o DataFrame\n",
    "df_importState.sample(20)\n",
    "\n",
    "#df_importState.shape #retornar o numero de registros e variaveis\n",
    "\n",
    "#df_importState[\"state\"].value_counts()"
   ]
  },
  {
   "cell_type": "code",
   "execution_count": null,
   "metadata": {},
   "outputs": [],
   "source": [
    "# Extrair a lista de dados da exportação de estado\n",
    "data_list = dadosStateExport['data']['list']\n",
    "\n",
    "# Transformar em DataFrame\n",
    "df_exportState = pd.DataFrame(data_list)\n",
    "\n",
    "# Exibir o DataFrame\n",
    "df_exportState.sample(20)\n",
    "\n",
    "#df_exportState.shape #retornar o numero de registros e variaveis\n",
    "\n",
    "#df_exportState[\"state\"].value_counts()"
   ]
  },
  {
   "cell_type": "code",
   "execution_count": null,
   "metadata": {},
   "outputs": [],
   "source": [
    "# Extrair a lista de dados da importação de cidade\n",
    "data_list = dadosCityImport['data']['list']\n",
    "\n",
    "# Transformar em DataFrame\n",
    "df_importCountry = pd.DataFrame(data_list)\n",
    "\n",
    "# Exibir o DataFrame\n",
    "df_importCountry.sample(20)\n",
    "\n",
    "#df_importCountry.shape #retornar o numero de registros e variaveis\n",
    "\n",
    "#df_importCountry[\"state\"].value_counts()"
   ]
  },
  {
   "cell_type": "code",
   "execution_count": null,
   "metadata": {},
   "outputs": [],
   "source": [
    "# Extrair a lista de dados da exportação de cidade\n",
    "data_list = dadosCityExport['data']['list']\n",
    "\n",
    "# Transformar em DataFrame\n",
    "df_exportCountry = pd.DataFrame(data_list)\n",
    "\n",
    "# Exibir o DataFrame\n",
    "df_exportCountry.sample(20)\n",
    "\n",
    "#df_exportCountry.shape #retornar o numero de registros e variaveis\n",
    "\n",
    "#df_exportCountry[\"state\"].value_counts()"
   ]
  },
  {
   "cell_type": "markdown",
   "metadata": {},
   "source": [
    "### manda para o mongo"
   ]
  },
  {
   "cell_type": "code",
   "execution_count": null,
   "metadata": {},
   "outputs": [],
   "source": [
    "collection_importState = db['comexstatImportState']\n",
    "collection_importState.insert_many(df_importState.to_dict('records'))\n",
    "\n",
    "collection_exportState = db['comexstatExportState']\n",
    "collection_exportState.insert_many(df_exportState.to_dict('records'))\n",
    "\n",
    "collection_importCountry = db['comexstatImportCountry']\n",
    "collection_importCountry.insert_many(df_importCountry.to_dict('records'))\n",
    "\n",
    "collection_exportCountry = db['comexstatExportCountry']\n",
    "collection_exportCountry.insert_many(df_exportCountry.to_dict('records'))"
   ]
  }
 ],
 "metadata": {
  "kernelspec": {
   "display_name": "Python 3",
   "language": "python",
   "name": "python3"
  },
  "language_info": {
   "codemirror_mode": {
    "name": "ipython",
    "version": 3
   },
   "file_extension": ".py",
   "mimetype": "text/x-python",
   "name": "python",
   "nbconvert_exporter": "python",
   "pygments_lexer": "ipython3",
   "version": "3.12.3"
  }
 },
 "nbformat": 4,
 "nbformat_minor": 2
}
