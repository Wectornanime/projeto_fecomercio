{
 "cells": [
  {
   "cell_type": "code",
   "execution_count": null,
   "metadata": {},
   "outputs": [],
   "source": [
    "import os\n",
    "from dotenv import load_dotenv\n",
    "from pymongo import MongoClient\n",
    "\n",
    "import requests, json\n",
    "import pandas as pd"
   ]
  },
  {
   "cell_type": "code",
   "execution_count": null,
   "metadata": {},
   "outputs": [],
   "source": [
    "# Carrega as variáveis do arquivo .env\n",
    "load_dotenv()\n",
    "database_url = os.getenv('DATABASE_URL')\n",
    "\n",
    "# Faz conexão com Atlas\n",
    "cliente = MongoClient(database_url)\n",
    "db = cliente['projeto_fecomercio']"
   ]
  },
  {
   "cell_type": "code",
   "execution_count": null,
   "metadata": {},
   "outputs": [],
   "source": [
    "# Endepoints\n",
    "url_desemprego = \"https://servicodados.ibge.gov.br/api/v3/agregados/4099/periodos/202001-202301/variaveis/4099?localidades=N3[all]\"\n",
    "url_inpc = \"https://servicodados.ibge.gov.br/api/v3/agregados/7063/periodos/202001-202407/variaveis/44|68?localidades=N1[all]&classificacao=315[all]\"\n",
    "url_pmc = \"https://servicodados.ibge.gov.br/api/v3/agregados/8883/periodos/202001-202410/variaveis/7169|11708|11710?localidades=N1[all]&classificacao=11046[56735]|85[all]\"\n",
    "url_pms = \"https://servicodados.ibge.gov.br/api/v3/agregados/8163/periodos/202001-202410/variaveis/7167|11623|11625?localidades=N1[all]&classificacao=11046[56725]|1274[all]\"\n",
    "url_pim = \"https://servicodados.ibge.gov.br/api/v3/agregados/8885/periodos/202001-202410/variaveis/12606|11602?localidades=N1[all]&classificacao=542[all]\"\n"
   ]
  },
  {
   "cell_type": "code",
   "execution_count": null,
   "metadata": {},
   "outputs": [],
   "source": [
    "# Realizar a requisição\n",
    "response_desemprego = requests.get(url_desemprego)\n",
    "print(f'desemprego: {response_desemprego.status_code}')\n",
    "response_inpc = requests.get(url_inpc)\n",
    "print(f'inpc: {response_inpc.status_code}')\n",
    "response_pmc = requests.get(url_pmc)\n",
    "print(f'pmc: {response_pmc.status_code}')\n",
    "response_pms = requests.get(url_pms)\n",
    "print(f'pms: {response_pms.status_code}')\n",
    "response_pim = requests.get(url_pim)\n",
    "print(f'pim: {response_pim.status_code}')"
   ]
  },
  {
   "cell_type": "markdown",
   "metadata": {},
   "source": [
    "### desemprego"
   ]
  },
  {
   "cell_type": "code",
   "execution_count": null,
   "metadata": {},
   "outputs": [],
   "source": [
    "# Verificar se a requisição de desemprego foi bem-sucedida\n",
    "if response_desemprego.status_code == 200:\n",
    "    data = response_desemprego.json()\n",
    "    print(data)\n",
    "    # Extrair e organizar os dados\n",
    "    desemprego_data = []\n",
    "    for resultado in data:\n",
    "        for serie in resultado[\"resultados\"][0][\"series\"]:\n",
    "            estado_nome = serie[\"localidade\"][\"nome\"]  # Obtém o nome do estado\n",
    "            for periodo, valor in serie[\"serie\"].items():\n",
    "                desemprego_data.append({\n",
    "                    \"ano\": periodo[:4],\n",
    "                    \"mes\": periodo[4:],\n",
    "                    \"desemprego\": valor,\n",
    "                    \"estado\": estado_nome\n",
    "                })\n",
    "                \n",
    "    df_desemprego = pd.DataFrame(desemprego_data)\n",
    "else:\n",
    "    print(\"Erro:\", response_desemprego.status_code, response_desemprego.text)"
   ]
  },
  {
   "cell_type": "code",
   "execution_count": null,
   "metadata": {},
   "outputs": [],
   "source": [
    "collection_desemprego = db['desemprego']\n",
    "collection_desemprego.insert_many(df_desemprego.to_dict('records'))"
   ]
  },
  {
   "cell_type": "markdown",
   "metadata": {},
   "source": [
    "### inpc"
   ]
  },
  {
   "cell_type": "code",
   "execution_count": null,
   "metadata": {},
   "outputs": [],
   "source": [
    "# Função responsável por transformar os dados da api em df\n",
    "def process_ibge_json(data):\n",
    "    # Inicializa as variáveis de hierarquia\n",
    "    current_group = None\n",
    "    current_subgrupo = None\n",
    "    current_item = None\n",
    "    rows = []\n",
    "\n",
    "    # Itera sobre cada resultado no JSON\n",
    "    for resultado in data[0]['resultados']:\n",
    "        classificacoes = resultado['classificacoes']\n",
    "        for classificacao in classificacoes:\n",
    "            for codigo, descricao in classificacao['categoria'].items():\n",
    "                # Verifica se a descrição contém '.' para hierarquia\n",
    "                if '.' in descricao:\n",
    "                    partes = descricao.split('.', 1)\n",
    "                    prefix = partes[0]\n",
    "                    nome = partes[1]\n",
    "\n",
    "                    # Determina o nível hierárquico baseado no comprimento do prefixo\n",
    "                    if len(prefix) == 1:\n",
    "                        # Grupo\n",
    "                        current_group = nome\n",
    "                    elif len(prefix) == 2:\n",
    "                        # Subgrupo\n",
    "                        current_subgrupo = nome\n",
    "                    elif len(prefix) == 4:\n",
    "                        # Item\n",
    "                        current_item = nome\n",
    "                    elif len(prefix) == 7:\n",
    "                        # Subitem\n",
    "                        subitem = nome\n",
    "                        # Agora, processa a série correspondente\n",
    "                        for serie in resultado['series']:\n",
    "                            localidade = serie['localidade']['nome']\n",
    "                            for periodo, valor in serie['serie'].items():\n",
    "                                ano = periodo[:4]\n",
    "                                mes = periodo[4:]\n",
    "                                try:\n",
    "                                    valor_float = float(valor)\n",
    "                                except ValueError:\n",
    "                                    valor_float = None  # Tratar valores inválidos\n",
    "\n",
    "                                rows.append({\n",
    "                                    \"Grupo\": current_group,\n",
    "                                    \"Subgrupo\": current_subgrupo,\n",
    "                                    \"Item\": current_item,\n",
    "                                    \"Subitem\": subitem,\n",
    "                                    \"Ano\": ano,\n",
    "                                    \"Mês\": mes,\n",
    "                                    \"Localidade\": localidade,\n",
    "                                    \"Valor INPC\": valor_float\n",
    "                                })\n",
    "                else:\n",
    "                    # Ignora classificações sem hierarquia (como \"Índice geral\")\n",
    "                    continue\n",
    "\n",
    "    # Cria o DataFrame\n",
    "    df = pd.DataFrame(rows)\n",
    "\n",
    "    return df"
   ]
  },
  {
   "cell_type": "code",
   "execution_count": null,
   "metadata": {},
   "outputs": [],
   "source": [
    "# Verificar se a requisição de pmc foi bem-sucedida\n",
    "if response_inpc.status_code == 200:\n",
    "    inpc_data = response_inpc.json()\n",
    "    print(inpc_data)\n",
    "    # Extrair e organizar os dados\n",
    "    # Lista para armazenar linhas do DataFrame\n",
    "    # Lista para armazenar os registros formatados\n",
    "\n",
    "    df_inpc = process_ibge_json(inpc_data)\n",
    "else:\n",
    "    print(\"Erro:\", response_inpc.status_code, response_inpc.text)"
   ]
  },
  {
   "cell_type": "code",
   "execution_count": null,
   "metadata": {},
   "outputs": [],
   "source": [
    "collection_inpc = db['inpc']\n",
    "collection_inpc.insert_many(df_inpc.to_dict('records'))"
   ]
  },
  {
   "cell_type": "markdown",
   "metadata": {},
   "source": [
    "### pmc"
   ]
  },
  {
   "cell_type": "code",
   "execution_count": null,
   "metadata": {},
   "outputs": [],
   "source": [
    "# Verificar se a requisição de pmc foi bem-sucedida\n",
    "if response_pmc.status_code == 200:\n",
    "    data = response_pmc.json()\n",
    "    print(data)\n",
    "    # Extrair e organizar os dados\n",
    "    pmc_data = []\n",
    "\n",
    "    for resultados in data:\n",
    "        variavel = resultados[\"variavel\"]\n",
    "        for resultado in resultados[\"resultados\"]:\n",
    "            for k, v in resultado[\"classificacoes\"][1][\"categoria\"].items():\n",
    "                categoria = v\n",
    "            for serie in resultado[\"series\"]:\n",
    "                for periodo, valor in serie[\"serie\"].items():\n",
    "                    pmc_data.append({\n",
    "                        \"variavel\": variavel,\n",
    "                        \"categoria\": categoria,\n",
    "                        \"ano\": periodo[:4],\n",
    "                        \"mes\": periodo[4:],\n",
    "                        \"valor\": valor\n",
    "                    })\n",
    "    df_pmc = pd.DataFrame(pmc_data)\n",
    "else:\n",
    "    print(\"Erro:\", response_pmc.status_code, response_pmc.text)"
   ]
  },
  {
   "cell_type": "code",
   "execution_count": null,
   "metadata": {},
   "outputs": [],
   "source": [
    "collection_pmc = db['pmc']\n",
    "collection_pmc.insert_many(df_pmc.to_dict('records'))"
   ]
  },
  {
   "cell_type": "markdown",
   "metadata": {},
   "source": [
    "### pms"
   ]
  },
  {
   "cell_type": "code",
   "execution_count": null,
   "metadata": {},
   "outputs": [],
   "source": [
    "# Verificar se a requisição de pms foi bem-sucedida\n",
    "if response_pms.status_code == 200:\n",
    "    data = response_pms.json()\n",
    "    print(data)\n",
    "    # Extrair e organizar os dados\n",
    "    pms_data = []\n",
    "\n",
    "    for resultados in data:\n",
    "        variavel = resultados[\"variavel\"]\n",
    "        for resultado in resultados[\"resultados\"]:\n",
    "            for k, v in resultado[\"classificacoes\"][1][\"categoria\"].items():\n",
    "                categoria = v\n",
    "            for serie in resultado[\"series\"]:\n",
    "                for periodo, valor in serie[\"serie\"].items():\n",
    "                    pms_data.append({\n",
    "                        \"variavel\": variavel,\n",
    "                        \"categoria\": categoria,\n",
    "                        \"mes\": periodo[4:],\n",
    "                        \"ano\": periodo[:4],\n",
    "                        \"valor\": valor,\n",
    "                    })\n",
    "    df_pms = pd.DataFrame(pms_data)\n",
    "else:\n",
    "    print(\"Erro:\", response_pms.status_code, response_pms.text)"
   ]
  },
  {
   "cell_type": "code",
   "execution_count": null,
   "metadata": {},
   "outputs": [],
   "source": [
    "collection_pms = db['pms']\n",
    "collection_pms.insert_many(df_pms.to_dict('records'))"
   ]
  },
  {
   "cell_type": "markdown",
   "metadata": {},
   "source": [
    "### pim"
   ]
  },
  {
   "cell_type": "code",
   "execution_count": null,
   "metadata": {},
   "outputs": [],
   "source": [
    "# Verificar se a requisição de pim foi bem-sucedida\n",
    "if response_pim.status_code == 200:\n",
    "    data = response_pim.json()\n",
    "    print(data)\n",
    "    # Extrair e organizar os dados\n",
    "    pim_data = []\n",
    "\n",
    "    for resultados in data:\n",
    "        variavel = resultados[\"variavel\"]\n",
    "        for resultado in resultados[\"resultados\"]:\n",
    "            for k, v in resultado[\"classificacoes\"][0][\"categoria\"].items():\n",
    "                categoria = v\n",
    "            for serie in resultado[\"series\"]:\n",
    "                for periodo, valor in serie[\"serie\"].items():\n",
    "                    pim_data.append({\n",
    "                        \"variavel\": variavel,\n",
    "                        \"categoria\": categoria,\n",
    "                        \"mes\": periodo[4:],\n",
    "                        \"ano\": periodo[:4],\n",
    "                        \"valor\": valor,\n",
    "                    })\n",
    "\n",
    "    df_pim = pd.DataFrame(pim_data)\n",
    "else:\n",
    "    print(\"Erro:\", response_pim.status_code, response_pim.text)"
   ]
  },
  {
   "cell_type": "code",
   "execution_count": null,
   "metadata": {},
   "outputs": [],
   "source": [
    "collection_pim = db['pim']\n",
    "collection_pim.insert_many(df_pim.to_dict('records'))"
   ]
  }
 ],
 "metadata": {
  "kernelspec": {
   "display_name": "Python 3",
   "language": "python",
   "name": "python3"
  },
  "language_info": {
   "codemirror_mode": {
    "name": "ipython",
    "version": 3
   },
   "file_extension": ".py",
   "mimetype": "text/x-python",
   "name": "python",
   "nbconvert_exporter": "python",
   "pygments_lexer": "ipython3",
   "version": "3.12.3"
  }
 },
 "nbformat": 4,
 "nbformat_minor": 2
}
